{
 "cells": [
  {
   "cell_type": "markdown",
   "metadata": {},
   "source": [
    "# Задача 1 \"Задача с именами\""
   ]
  },
  {
   "cell_type": "code",
   "execution_count": 201,
   "metadata": {},
   "outputs": [],
   "source": [
    "import pandas as pd\n",
    "import numpy as np\n",
    "import re"
   ]
  },
  {
   "cell_type": "code",
   "execution_count": 202,
   "metadata": {},
   "outputs": [],
   "source": [
    "with open ('names.txt', 'r') as f:\n",
    "    names = f.read()"
   ]
  },
  {
   "cell_type": "markdown",
   "metadata": {},
   "source": [
    "##  1.1 Сортировка имен в лексикографическом порядке"
   ]
  },
  {
   "cell_type": "code",
   "execution_count": 203,
   "metadata": {},
   "outputs": [],
   "source": [
    "names = re.split('[^A-Z]', names)\n",
    "names = sorted([x for x in names if x != ''])"
   ]
  },
  {
   "cell_type": "markdown",
   "metadata": {},
   "source": [
    "##  1.2 Алфавитная сумма каждого имени"
   ]
  },
  {
   "cell_type": "code",
   "execution_count": 1004,
   "metadata": {},
   "outputs": [],
   "source": [
    "sum_list = []\n",
    "for name in names:\n",
    "    sum_of_name = 0\n",
    "    for letter in name:\n",
    "        sum_of_name += ord(letter) - 64\n",
    "    sum_list.append(sum_of_name)\n",
    "\n",
    "assert(len(names) == len(sum_list)) #проверка"
   ]
  },
  {
   "cell_type": "markdown",
   "metadata": {},
   "source": [
    "##  1.3 Произведение алфавитной суммы на порядковый номер"
   ]
  },
  {
   "cell_type": "code",
   "execution_count": 1005,
   "metadata": {},
   "outputs": [],
   "source": [
    "prod = []\n",
    "for ind, sum_of_name in enumerate(sum_list):\n",
    "    prod.append((ind + 1) * sum_of_name)\n",
    "    \n",
    "assert(len(prod) == len(sum_list)) #проверка\n",
    "assert(sum_list[4] * 5 == prod[4])\n"
   ]
  },
  {
   "cell_type": "markdown",
   "metadata": {},
   "source": [
    "##  1.4 Сумма произведений алфавитной суммы на порядковые номера"
   ]
  },
  {
   "cell_type": "code",
   "execution_count": 229,
   "metadata": {},
   "outputs": [
    {
     "name": "stdout",
     "output_type": "stream",
     "text": [
      "871853874\n"
     ]
    }
   ],
   "source": [
    "ans = sum(prod)\n",
    "print(ans)"
   ]
  },
  {
   "cell_type": "markdown",
   "metadata": {},
   "source": [
    "# Задача 2 \"Задача с ip адресами\""
   ]
  },
  {
   "cell_type": "code",
   "execution_count": 970,
   "metadata": {},
   "outputs": [
    {
     "name": "stdout",
     "output_type": "stream",
     "text": [
      "0    154.157.157.156\n",
      "1     82.146.232.163\n",
      "2    226.247.119.128\n",
      "3      194.78.107.33\n",
      "4     21.143.243.182\n",
      "Name: ip, dtype: object\n"
     ]
    }
   ],
   "source": [
    "col_names = ['host', 'ip', 'page']\n",
    "ip_df = pd.read_csv('hits.txt', delimiter='\\t', names=col_names)\n",
    "top_ip = ip_df.groupby('ip').aggregate('count').sort_values('host', ascending=False).reset_index().ip.head()\n",
    "print(top_ip)"
   ]
  },
  {
   "cell_type": "markdown",
   "metadata": {},
   "source": [
    "# Задача 3 "
   ]
  },
  {
   "cell_type": "code",
   "execution_count": 971,
   "metadata": {},
   "outputs": [],
   "source": [
    "def del_whitespaces(df):\n",
    "    '''функция удаления пробелов в массиве'''\n",
    "    for col in df.columns:\n",
    "        if type(df[col][1]) is not str:\n",
    "            continue\n",
    "        df[col] = df[col].map(str.strip)\n",
    "    return df"
   ]
  },
  {
   "cell_type": "code",
   "execution_count": 1007,
   "metadata": {},
   "outputs": [],
   "source": [
    "#чтение данных\n",
    "lessons = pd.read_csv('tech_quality\\lessons.txt', delimiter='|', parse_dates=[3]).drop([0, 379])\n",
    "lessons = lessons.rename(columns={'                  id                  ': 'lesson_id', \n",
    "                ' event_id ': 'event_id', \n",
    "                ' subject ': 'subject',\n",
    "                '       scheduled_time       ': 'scheduled_time'})\n",
    "lessons['day'] = lessons.iloc[:, 3].dt.day\n",
    "lessons['event_id'] = lessons['event_id'].astype(int)\n",
    "lessons = del_whitespaces(lessons)\n",
    "\n",
    "participants = pd.read_csv('tech_quality\\participants.txt', delimiter='|').drop([0, 744])\n",
    "participants = participants.rename(columns={' event_id ': 'event_id',\n",
    "                                            '               user_id                ': 'user_id'})\n",
    "participants = del_whitespaces(participants)\n",
    "participants['event_id'] = participants['event_id'].astype(int)\n",
    "\n",
    "\n",
    "quality = pd.read_csv('tech_quality\\quality.txt', delimiter='|').drop([0, 366])\n",
    "quality = quality.rename(columns={'              lesson_id               ': 'lesson_id',\n",
    "                                  ' tech_quality ': 'tech_quality'})\n",
    "quality = del_whitespaces(quality)\n",
    "quality['tech_quality'] = pd.to_numeric(quality['tech_quality'], errors='coerce')\n",
    "\n",
    "\n",
    "users = pd.read_csv('tech_quality\\\\users.txt', delimiter = '|').drop([0, 744])\n",
    "users = users.rename(columns={'                  id                  ': 'user_id', \n",
    "                       ' role  ': 'role'})\n",
    "users = del_whitespaces(users)\n"
   ]
  },
  {
   "cell_type": "code",
   "execution_count": 1008,
   "metadata": {},
   "outputs": [
    {
     "data": {
      "text/html": [
       "<div>\n",
       "<style scoped>\n",
       "    .dataframe tbody tr th:only-of-type {\n",
       "        vertical-align: middle;\n",
       "    }\n",
       "\n",
       "    .dataframe tbody tr th {\n",
       "        vertical-align: top;\n",
       "    }\n",
       "\n",
       "    .dataframe thead th {\n",
       "        text-align: right;\n",
       "    }\n",
       "</style>\n",
       "<table border=\"1\" class=\"dataframe\">\n",
       "  <thead>\n",
       "    <tr style=\"text-align: right;\">\n",
       "      <th></th>\n",
       "      <th>tech_quality_x</th>\n",
       "      <th>tech_quality_y</th>\n",
       "    </tr>\n",
       "    <tr>\n",
       "      <th>lesson_id</th>\n",
       "      <th></th>\n",
       "      <th></th>\n",
       "    </tr>\n",
       "  </thead>\n",
       "  <tbody>\n",
       "    <tr>\n",
       "      <td>00fc6685-f53a-49bb-b960-5e0042fd3852</td>\n",
       "      <td>2</td>\n",
       "      <td>10.0</td>\n",
       "    </tr>\n",
       "    <tr>\n",
       "      <td>01f717d8-baaf-427d-a927-08c79713ae79</td>\n",
       "      <td>2</td>\n",
       "      <td>7.0</td>\n",
       "    </tr>\n",
       "    <tr>\n",
       "      <td>024d415a-4543-4e73-88c6-f4609e1bf1ed</td>\n",
       "      <td>2</td>\n",
       "      <td>9.0</td>\n",
       "    </tr>\n",
       "    <tr>\n",
       "      <td>03f4f4a8-c60c-41d7-a1cb-17b2d36ee183</td>\n",
       "      <td>1</td>\n",
       "      <td>5.0</td>\n",
       "    </tr>\n",
       "    <tr>\n",
       "      <td>056c3d91-dce7-4071-91d3-1de816ee63a3</td>\n",
       "      <td>1</td>\n",
       "      <td>4.0</td>\n",
       "    </tr>\n",
       "  </tbody>\n",
       "</table>\n",
       "</div>"
      ],
      "text/plain": [
       "                                      tech_quality_x  tech_quality_y\n",
       "lesson_id                                                           \n",
       "00fc6685-f53a-49bb-b960-5e0042fd3852               2            10.0\n",
       "01f717d8-baaf-427d-a927-08c79713ae79               2             7.0\n",
       "024d415a-4543-4e73-88c6-f4609e1bf1ed               2             9.0\n",
       "03f4f4a8-c60c-41d7-a1cb-17b2d36ee183               1             5.0\n",
       "056c3d91-dce7-4071-91d3-1de816ee63a3               1             4.0"
      ]
     },
     "execution_count": 1008,
     "metadata": {},
     "output_type": "execute_result"
    }
   ],
   "source": [
    "quality_df = quality.groupby('lesson_id').aggregate('count').merge(quality.groupby('lesson_id').aggregate('sum'), on='lesson_id')\n",
    "quality_df.head()"
   ]
  },
  {
   "cell_type": "code",
   "execution_count": 1009,
   "metadata": {},
   "outputs": [],
   "source": [
    "tutors = users[users['role'] == 'tutor'].user_id\n",
    "tutors_df = participants[participants['user_id'].isin(tutors)]\n",
    "tutors = tutors_df.drop_duplicates()"
   ]
  },
  {
   "cell_type": "code",
   "execution_count": 1010,
   "metadata": {},
   "outputs": [
    {
     "data": {
      "text/html": [
       "<div>\n",
       "<style scoped>\n",
       "    .dataframe tbody tr th:only-of-type {\n",
       "        vertical-align: middle;\n",
       "    }\n",
       "\n",
       "    .dataframe tbody tr th {\n",
       "        vertical-align: top;\n",
       "    }\n",
       "\n",
       "    .dataframe thead th {\n",
       "        text-align: right;\n",
       "    }\n",
       "</style>\n",
       "<table border=\"1\" class=\"dataframe\">\n",
       "  <thead>\n",
       "    <tr style=\"text-align: right;\">\n",
       "      <th></th>\n",
       "      <th></th>\n",
       "      <th>count_of_marks</th>\n",
       "      <th>sum_of_marks</th>\n",
       "    </tr>\n",
       "    <tr>\n",
       "      <th>day</th>\n",
       "      <th>user_id</th>\n",
       "      <th></th>\n",
       "      <th></th>\n",
       "    </tr>\n",
       "  </thead>\n",
       "  <tbody>\n",
       "    <tr>\n",
       "      <td rowspan=\"5\" valign=\"top\">11</td>\n",
       "      <td>2fa2ab62-f1b0-4036-872f-bcfd9a8686ff</td>\n",
       "      <td>1.0</td>\n",
       "      <td>5.0</td>\n",
       "    </tr>\n",
       "    <tr>\n",
       "      <td>30a19496-bdaf-461c-abbc-2709ae520201</td>\n",
       "      <td>1.0</td>\n",
       "      <td>5.0</td>\n",
       "    </tr>\n",
       "    <tr>\n",
       "      <td>43efce48-94b2-4412-857f-223d45969008</td>\n",
       "      <td>3.0</td>\n",
       "      <td>15.0</td>\n",
       "    </tr>\n",
       "    <tr>\n",
       "      <td>603b8641-c6f6-4d89-ac89-88e50d45aa0d</td>\n",
       "      <td>5.0</td>\n",
       "      <td>24.0</td>\n",
       "    </tr>\n",
       "    <tr>\n",
       "      <td>8fe03f08-8581-430c-a590-9888ab36deb3</td>\n",
       "      <td>7.0</td>\n",
       "      <td>31.0</td>\n",
       "    </tr>\n",
       "  </tbody>\n",
       "</table>\n",
       "</div>"
      ],
      "text/plain": [
       "                                          count_of_marks  sum_of_marks\n",
       "day user_id                                                           \n",
       "11  2fa2ab62-f1b0-4036-872f-bcfd9a8686ff             1.0           5.0\n",
       "    30a19496-bdaf-461c-abbc-2709ae520201             1.0           5.0\n",
       "    43efce48-94b2-4412-857f-223d45969008             3.0          15.0\n",
       "    603b8641-c6f6-4d89-ac89-88e50d45aa0d             5.0          24.0\n",
       "    8fe03f08-8581-430c-a590-9888ab36deb3             7.0          31.0"
      ]
     },
     "execution_count": 1010,
     "metadata": {},
     "output_type": "execute_result"
    }
   ],
   "source": [
    "lessons = lessons[lessons['subject'] == 'phys']\n",
    "lessons = lessons.merge(tutors_df, how='left', on='event_id').drop_duplicates()\n",
    "lessons = lessons.merge(quality_df, how='left', on='lesson_id').rename(columns={'tech_quality_x': 'count_of_marks',\n",
    "                                                                                'tech_quality_y': 'sum_of_marks'})\n",
    "lessons = lessons.drop(['lesson_id', 'event_id', 'subject', 'scheduled_time'], axis=1).dropna()\n",
    "lessons = lessons.groupby(['day', 'user_id'])['count_of_marks', 'sum_of_marks'].aggregate('sum')\n",
    "lessons.head()"
   ]
  },
  {
   "cell_type": "code",
   "execution_count": 1011,
   "metadata": {},
   "outputs": [],
   "source": [
    "lessons['mean_mark'] = round(lessons['sum_of_marks'] / lessons['count_of_marks'], 2)\n",
    "lessons = lessons.drop(['sum_of_marks', 'count_of_marks'], axis=1).reset_index()"
   ]
  },
  {
   "cell_type": "code",
   "execution_count": 1012,
   "metadata": {},
   "outputs": [
    {
     "data": {
      "text/html": [
       "<div>\n",
       "<style scoped>\n",
       "    .dataframe tbody tr th:only-of-type {\n",
       "        vertical-align: middle;\n",
       "    }\n",
       "\n",
       "    .dataframe tbody tr th {\n",
       "        vertical-align: top;\n",
       "    }\n",
       "\n",
       "    .dataframe thead th {\n",
       "        text-align: right;\n",
       "    }\n",
       "</style>\n",
       "<table border=\"1\" class=\"dataframe\">\n",
       "  <thead>\n",
       "    <tr style=\"text-align: right;\">\n",
       "      <th></th>\n",
       "      <th>day</th>\n",
       "      <th>user_id</th>\n",
       "      <th>mean_mark</th>\n",
       "    </tr>\n",
       "  </thead>\n",
       "  <tbody>\n",
       "    <tr>\n",
       "      <td>0</td>\n",
       "      <td>11</td>\n",
       "      <td>2fa2ab62-f1b0-4036-872f-bcfd9a8686ff</td>\n",
       "      <td>4.43</td>\n",
       "    </tr>\n",
       "    <tr>\n",
       "      <td>1</td>\n",
       "      <td>12</td>\n",
       "      <td>2fa2ab62-f1b0-4036-872f-bcfd9a8686ff</td>\n",
       "      <td>4.89</td>\n",
       "    </tr>\n",
       "    <tr>\n",
       "      <td>2</td>\n",
       "      <td>13</td>\n",
       "      <td>2fa2ab62-f1b0-4036-872f-bcfd9a8686ff</td>\n",
       "      <td>5.00</td>\n",
       "    </tr>\n",
       "    <tr>\n",
       "      <td>3</td>\n",
       "      <td>14</td>\n",
       "      <td>2fa2ab62-f1b0-4036-872f-bcfd9a8686ff</td>\n",
       "      <td>4.00</td>\n",
       "    </tr>\n",
       "    <tr>\n",
       "      <td>4</td>\n",
       "      <td>15</td>\n",
       "      <td>603b8641-c6f6-4d89-ac89-88e50d45aa0d</td>\n",
       "      <td>5.00</td>\n",
       "    </tr>\n",
       "    <tr>\n",
       "      <td>5</td>\n",
       "      <td>16</td>\n",
       "      <td>2fa2ab62-f1b0-4036-872f-bcfd9a8686ff</td>\n",
       "      <td>4.00</td>\n",
       "    </tr>\n",
       "    <tr>\n",
       "      <td>6</td>\n",
       "      <td>17</td>\n",
       "      <td>30a19496-bdaf-461c-abbc-2709ae520201</td>\n",
       "      <td>4.50</td>\n",
       "    </tr>\n",
       "    <tr>\n",
       "      <td>7</td>\n",
       "      <td>18</td>\n",
       "      <td>1c39e78f-6ded-4b2e-83d6-036ca34ecfdc</td>\n",
       "      <td>4.25</td>\n",
       "    </tr>\n",
       "    <tr>\n",
       "      <td>8</td>\n",
       "      <td>19</td>\n",
       "      <td>43efce48-94b2-4412-857f-223d45969008</td>\n",
       "      <td>4.50</td>\n",
       "    </tr>\n",
       "    <tr>\n",
       "      <td>9</td>\n",
       "      <td>20</td>\n",
       "      <td>2fa2ab62-f1b0-4036-872f-bcfd9a8686ff</td>\n",
       "      <td>4.50</td>\n",
       "    </tr>\n",
       "  </tbody>\n",
       "</table>\n",
       "</div>"
      ],
      "text/plain": [
       "   day                               user_id  mean_mark\n",
       "0   11  2fa2ab62-f1b0-4036-872f-bcfd9a8686ff       4.43\n",
       "1   12  2fa2ab62-f1b0-4036-872f-bcfd9a8686ff       4.89\n",
       "2   13  2fa2ab62-f1b0-4036-872f-bcfd9a8686ff       5.00\n",
       "3   14  2fa2ab62-f1b0-4036-872f-bcfd9a8686ff       4.00\n",
       "4   15  603b8641-c6f6-4d89-ac89-88e50d45aa0d       5.00\n",
       "5   16  2fa2ab62-f1b0-4036-872f-bcfd9a8686ff       4.00\n",
       "6   17  30a19496-bdaf-461c-abbc-2709ae520201       4.50\n",
       "7   18  1c39e78f-6ded-4b2e-83d6-036ca34ecfdc       4.25\n",
       "8   19  43efce48-94b2-4412-857f-223d45969008       4.50\n",
       "9   20  2fa2ab62-f1b0-4036-872f-bcfd9a8686ff       4.50"
      ]
     },
     "execution_count": 1012,
     "metadata": {},
     "output_type": "execute_result"
    }
   ],
   "source": [
    "lessons = lessons.groupby('day').agg('min').reset_index()\n",
    "lessons"
   ]
  }
 ],
 "metadata": {
  "kernelspec": {
   "display_name": "Python 3",
   "language": "python",
   "name": "python3"
  },
  "language_info": {
   "codemirror_mode": {
    "name": "ipython",
    "version": 3
   },
   "file_extension": ".py",
   "mimetype": "text/x-python",
   "name": "python",
   "nbconvert_exporter": "python",
   "pygments_lexer": "ipython3",
   "version": "3.7.4"
  }
 },
 "nbformat": 4,
 "nbformat_minor": 2
}
